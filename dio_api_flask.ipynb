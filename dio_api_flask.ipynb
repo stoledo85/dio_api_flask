{
 "cells": [
  {
   "cell_type": "markdown",
   "id": "0c5fd0a2-7cbc-49af-b771-18dbc6093736",
   "metadata": {},
   "source": [
    "# Projeto de uma Api Flask"
   ]
  },
  {
   "cell_type": "code",
   "execution_count": 1,
   "id": "928dc107-30bb-49e5-89ed-0ead1199a3e0",
   "metadata": {},
   "outputs": [],
   "source": [
    "import pandas as pd\n",
    "from fastapi import FastAPI\n",
    "import nest_asyncio\n",
    "from pyngrok import ngrok\n",
    "import uvicorn\n",
    "from flask import *\n",
    "from flask_ngrok import run_with_ngrok"
   ]
  },
  {
   "cell_type": "code",
   "execution_count": 2,
   "id": "5503287b-f4de-42f9-8e0a-10f9a16a7426",
   "metadata": {},
   "outputs": [
    {
     "name": "stdout",
     "output_type": "stream",
     "text": [
      "Requirement already satisfied: fastapi in ./.venv/lib/python3.12/site-packages (0.111.0)\n",
      "Requirement already satisfied: pyngrok in ./.venv/lib/python3.12/site-packages (7.1.6)\n",
      "Requirement already satisfied: uvicorn in ./.venv/lib/python3.12/site-packages (0.30.1)\n",
      "Requirement already satisfied: flask in ./.venv/lib/python3.12/site-packages (3.0.3)\n",
      "Requirement already satisfied: starlette<0.38.0,>=0.37.2 in ./.venv/lib/python3.12/site-packages (from fastapi) (0.37.2)\n",
      "Requirement already satisfied: pydantic!=1.8,!=1.8.1,!=2.0.0,!=2.0.1,!=2.1.0,<3.0.0,>=1.7.4 in ./.venv/lib/python3.12/site-packages (from fastapi) (2.8.0)\n",
      "Requirement already satisfied: typing-extensions>=4.8.0 in ./.venv/lib/python3.12/site-packages (from fastapi) (4.12.2)\n",
      "Requirement already satisfied: fastapi-cli>=0.0.2 in ./.venv/lib/python3.12/site-packages (from fastapi) (0.0.4)\n",
      "Requirement already satisfied: httpx>=0.23.0 in ./.venv/lib/python3.12/site-packages (from fastapi) (0.27.0)\n",
      "Requirement already satisfied: jinja2>=2.11.2 in ./.venv/lib/python3.12/site-packages (from fastapi) (3.1.4)\n",
      "Requirement already satisfied: python-multipart>=0.0.7 in ./.venv/lib/python3.12/site-packages (from fastapi) (0.0.9)\n",
      "Requirement already satisfied: ujson!=4.0.2,!=4.1.0,!=4.2.0,!=4.3.0,!=5.0.0,!=5.1.0,>=4.0.1 in ./.venv/lib/python3.12/site-packages (from fastapi) (5.10.0)\n",
      "Requirement already satisfied: orjson>=3.2.1 in ./.venv/lib/python3.12/site-packages (from fastapi) (3.10.5)\n",
      "Requirement already satisfied: email_validator>=2.0.0 in ./.venv/lib/python3.12/site-packages (from fastapi) (2.2.0)\n",
      "Requirement already satisfied: PyYAML>=5.1 in ./.venv/lib/python3.12/site-packages (from pyngrok) (6.0.1)\n",
      "Requirement already satisfied: click>=7.0 in ./.venv/lib/python3.12/site-packages (from uvicorn) (8.1.7)\n",
      "Requirement already satisfied: h11>=0.8 in ./.venv/lib/python3.12/site-packages (from uvicorn) (0.14.0)\n",
      "Requirement already satisfied: Werkzeug>=3.0.0 in ./.venv/lib/python3.12/site-packages (from flask) (3.0.3)\n",
      "Requirement already satisfied: itsdangerous>=2.1.2 in ./.venv/lib/python3.12/site-packages (from flask) (2.2.0)\n",
      "Requirement already satisfied: blinker>=1.6.2 in ./.venv/lib/python3.12/site-packages (from flask) (1.8.2)\n",
      "Requirement already satisfied: dnspython>=2.0.0 in ./.venv/lib/python3.12/site-packages (from email_validator>=2.0.0->fastapi) (2.6.1)\n",
      "Requirement already satisfied: idna>=2.0.0 in ./.venv/lib/python3.12/site-packages (from email_validator>=2.0.0->fastapi) (3.7)\n",
      "Requirement already satisfied: typer>=0.12.3 in ./.venv/lib/python3.12/site-packages (from fastapi-cli>=0.0.2->fastapi) (0.12.3)\n",
      "Requirement already satisfied: anyio in ./.venv/lib/python3.12/site-packages (from httpx>=0.23.0->fastapi) (4.4.0)\n",
      "Requirement already satisfied: certifi in ./.venv/lib/python3.12/site-packages (from httpx>=0.23.0->fastapi) (2024.6.2)\n",
      "Requirement already satisfied: httpcore==1.* in ./.venv/lib/python3.12/site-packages (from httpx>=0.23.0->fastapi) (1.0.5)\n",
      "Requirement already satisfied: sniffio in ./.venv/lib/python3.12/site-packages (from httpx>=0.23.0->fastapi) (1.3.1)\n",
      "Requirement already satisfied: MarkupSafe>=2.0 in ./.venv/lib/python3.12/site-packages (from jinja2>=2.11.2->fastapi) (2.1.5)\n",
      "Requirement already satisfied: annotated-types>=0.4.0 in ./.venv/lib/python3.12/site-packages (from pydantic!=1.8,!=1.8.1,!=2.0.0,!=2.0.1,!=2.1.0,<3.0.0,>=1.7.4->fastapi) (0.7.0)\n",
      "Requirement already satisfied: pydantic-core==2.20.0 in ./.venv/lib/python3.12/site-packages (from pydantic!=1.8,!=1.8.1,!=2.0.0,!=2.0.1,!=2.1.0,<3.0.0,>=1.7.4->fastapi) (2.20.0)\n",
      "Requirement already satisfied: httptools>=0.5.0 in ./.venv/lib/python3.12/site-packages (from uvicorn[standard]>=0.12.0->fastapi) (0.6.1)\n",
      "Requirement already satisfied: python-dotenv>=0.13 in ./.venv/lib/python3.12/site-packages (from uvicorn[standard]>=0.12.0->fastapi) (1.0.1)\n",
      "Requirement already satisfied: uvloop!=0.15.0,!=0.15.1,>=0.14.0 in ./.venv/lib/python3.12/site-packages (from uvicorn[standard]>=0.12.0->fastapi) (0.19.0)\n",
      "Requirement already satisfied: watchfiles>=0.13 in ./.venv/lib/python3.12/site-packages (from uvicorn[standard]>=0.12.0->fastapi) (0.22.0)\n",
      "Requirement already satisfied: websockets>=10.4 in ./.venv/lib/python3.12/site-packages (from uvicorn[standard]>=0.12.0->fastapi) (12.0)\n",
      "Requirement already satisfied: shellingham>=1.3.0 in ./.venv/lib/python3.12/site-packages (from typer>=0.12.3->fastapi-cli>=0.0.2->fastapi) (1.5.4)\n",
      "Requirement already satisfied: rich>=10.11.0 in ./.venv/lib/python3.12/site-packages (from typer>=0.12.3->fastapi-cli>=0.0.2->fastapi) (13.7.1)\n",
      "Requirement already satisfied: markdown-it-py>=2.2.0 in ./.venv/lib/python3.12/site-packages (from rich>=10.11.0->typer>=0.12.3->fastapi-cli>=0.0.2->fastapi) (3.0.0)\n",
      "Requirement already satisfied: pygments<3.0.0,>=2.13.0 in ./.venv/lib/python3.12/site-packages (from rich>=10.11.0->typer>=0.12.3->fastapi-cli>=0.0.2->fastapi) (2.18.0)\n",
      "Requirement already satisfied: mdurl~=0.1 in ./.venv/lib/python3.12/site-packages (from markdown-it-py>=2.2.0->rich>=10.11.0->typer>=0.12.3->fastapi-cli>=0.0.2->fastapi) (0.1.2)\n"
     ]
    }
   ],
   "source": [
    "!pip install fastapi pyngrok uvicorn flask"
   ]
  },
  {
   "cell_type": "code",
   "execution_count": 3,
   "id": "ca0d4339-78c8-4e0b-b1b8-7de02b393293",
   "metadata": {},
   "outputs": [],
   "source": [
    "d = [{'Number':1,\"Name\": \"Mahesh\",\"Age\": 25,\"City\":\"Bangalare\",\"Country\" : \"India\"},\n",
    "     {\"Number\":2,\"Name\": \"Alex\",\"Age\": 26,\"City\":\"London\",\"Country\":\"UK\"},\n",
    "     {\"Number\":3,\"Name\": \"David\",\"Age\": 27,\"City\":\"London\",\"Country\":\"UK\"},\n",
    "    {\"Number\":4,\"Name\": \"John\",\"Age\": 28,\"City\":\"Toronto\",\"Country\":\"Canada\"},\n",
    "    {\"Number\":5,\"Name\": \"Chris\",\"Age\": 29,\"City\":\"Paris\",\"Country\":\"France\"},]"
   ]
  },
  {
   "cell_type": "code",
   "execution_count": 4,
   "id": "c284dfd9-dec5-4c24-80d3-ae68484c07d8",
   "metadata": {},
   "outputs": [],
   "source": [
    "app = Flask(__name__)\n",
    "@app.route('/index')\n",
    "def home():\n",
    "    return jsonify(d)"
   ]
  },
  {
   "cell_type": "code",
   "execution_count": null,
   "id": "2bbd096f-7228-436e-b06a-268b45eb1771",
   "metadata": {
    "scrolled": true
   },
   "outputs": [
    {
     "name": "stdout",
     "output_type": "stream",
     "text": [
      " * Serving Flask app '__main__'\n",
      " * Debug mode: off\n"
     ]
    },
    {
     "name": "stderr",
     "output_type": "stream",
     "text": [
      "\u001b[31m\u001b[1mWARNING: This is a development server. Do not use it in a production deployment. Use a production WSGI server instead.\u001b[0m\n",
      " * Running on http://127.0.0.1:5000\n",
      "\u001b[33mPress CTRL+C to quit\u001b[0m\n",
      "Exception in thread Thread-5:\n",
      "Traceback (most recent call last):\n",
      "  File \"/usr/lib/python3.12/threading.py\", line 1073, in _bootstrap_inner\n",
      "    self.run()\n",
      "  File \"/usr/lib/python3.12/threading.py\", line 1431, in run\n",
      "    self.function(*self.args, **self.kwargs)\n",
      "  File \"/home/sander/Workspace/dio-api-flask/.venv/lib/python3.12/site-packages/flask_ngrok.py\", line 70, in start_ngrok\n",
      "    ngrok_address = _run_ngrok()\n",
      "                    ^^^^^^^^^^^^\n",
      "  File \"/home/sander/Workspace/dio-api-flask/.venv/lib/python3.12/site-packages/flask_ngrok.py\", line 31, in _run_ngrok\n",
      "    ngrok = subprocess.Popen([executable, 'http', '5000'])\n",
      "            ^^^^^^^^^^^^^^^^^^^^^^^^^^^^^^^^^^^^^^^^^^^^^^\n",
      "  File \"/usr/lib/python3.12/subprocess.py\", line 1026, in __init__\n",
      "    self._execute_child(args, executable, preexec_fn, close_fds,\n",
      "  File \"/usr/lib/python3.12/subprocess.py\", line 1955, in _execute_child\n",
      "    raise child_exception_type(errno_num, err_msg, err_filename)\n",
      "PermissionError: [Errno 13] Permission denied: '/tmp/ngrok/ngrok'\n",
      "127.0.0.1 - - [02/Jul/2024 13:36:35] \"GET /index HTTP/1.1\" 200 -\n",
      "127.0.0.1 - - [02/Jul/2024 14:19:06] \"\u001b[33mGET / HTTP/1.1\u001b[0m\" 404 -\n",
      "127.0.0.1 - - [02/Jul/2024 14:19:12] \"GET /index HTTP/1.1\" 200 -\n"
     ]
    }
   ],
   "source": [
    "run_with_ngrok(app)\n",
    "app.run()"
   ]
  },
  {
   "cell_type": "code",
   "execution_count": null,
   "id": "aefa93ff-8fce-4c8a-82cb-f522d53cb623",
   "metadata": {},
   "outputs": [],
   "source": []
  }
 ],
 "metadata": {
  "kernelspec": {
   "display_name": "Python 3 (ipykernel)",
   "language": "python",
   "name": "python3"
  },
  "language_info": {
   "codemirror_mode": {
    "name": "ipython",
    "version": 3
   },
   "file_extension": ".py",
   "mimetype": "text/x-python",
   "name": "python",
   "nbconvert_exporter": "python",
   "pygments_lexer": "ipython3",
   "version": "3.12.4"
  }
 },
 "nbformat": 4,
 "nbformat_minor": 5
}
